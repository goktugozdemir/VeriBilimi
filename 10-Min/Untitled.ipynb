{
  "nbformat": 4,
  "nbformat_minor": 0,
  "metadata": {
    "colab": {
      "provenance": []
    },
    "kernelspec": {
      "name": "python3",
      "display_name": "Python 3"
    },
    "language_info": {
      "name": "python"
    }
  },
  "cells": [
    {
      "cell_type": "code",
      "source": [
        "from keras.datasets import mnist\n",
        "from keras.utils import np_utils, to_categorical\n",
        "from keras.models import Sequential\n",
        "from keras.layers import Dense, Dropout, Flatten, Conv2D, MaxPooling2D, Activation\n",
        "from keras.optimizers import SGD\n",
        "from keras.utils.data_utils import random\n",
        "from google.colab.patches import cv2_imshow    \n",
        "import numpy as np \n",
        "import matplotlib.pyplot as plt"
      ],
      "metadata": {
        "id": "Nel2UO182tsA"
      },
      "execution_count": 13,
      "outputs": []
    },
    {
      "cell_type": "code",
      "source": [
        "(x_train,y_train),(x_test,y_test) = mnist.load_data()\n",
        "img_rows=x_train[0].shape[0]\n",
        "img_cols=x_train[1].shape[1]\n",
        "x_train=x_train.reshape(len(x_train),img_rows,img_cols,1)\n",
        "x_test=x_test.reshape(len(x_test),img_rows,img_cols,1)\n",
        "x_train=x_train.astype(\"float32\")\n",
        "x_test=x_test.astype(\"float32\")\n",
        "x_train /= 255\n",
        "x_test /= 255\n",
        "y_train=to_categorical(y_train)\n",
        "y_test=to_categorical(y_test)\n",
        "          \n",
        "     "
      ],
      "metadata": {
        "id": "67i-gN9e2xW9"
      },
      "execution_count": 4,
      "outputs": []
    },
    {
      "cell_type": "code",
      "source": [
        "model = Sequential()\n",
        "model.add(Conv2D(32,(3,3),input_shape= x_train.shape[1:]))\n",
        "model.add(Activation(\"relu\"))\n",
        "model.add(Conv2D(64,(3,3)))\n",
        "model.add(Activation(\"relu\"))\n",
        "model.add(MaxPooling2D(pool_size=(2,2)))\n",
        "model.add(Conv2D(128,(3,3)))\n",
        "model.add(Activation(\"relu\"))\n",
        "model.add(Conv2D(64,(3,3), activation=\"relu\"))\n",
        "model.add(Flatten())\n",
        "model.add(Dense(256)) \n",
        "model.add(Dropout(0.25))\n",
        "model.add(Dense(128))\n",
        "model.add(Dropout(0.3))\n",
        "model.add(Dense(y_train.shape[1], activation=\"softmax\")) \n",
        "model.compile(loss = 'categorical_crossentropy', optimizer=\"Adam\", metrics=[\"accuracy\"])"
      ],
      "metadata": {
        "id": "K_fVFssv4BQM"
      },
      "execution_count": 10,
      "outputs": []
    },
    {
      "cell_type": "code",
      "source": [
        "a = [1,2,3,4,5,6]\n",
        "batch_size = [32,64,128,256,512,1024]\n",
        "\n",
        "for i in range(6):\n",
        "    a[i] = model.fit(x_train, y_train, batch_size=batch_size[i],epochs=10,validation_data=(x_test, y_test))\n",
        "    score = model.evaluate(x_test, y_test)\n",
        "    print(score[0])\n",
        "    print(score[1])\n",
        "    ad = a[i].history\n",
        "    loss_values = ad[\"loss\"]\n",
        "    val_loss_values = ad[\"val_loss\"]\n",
        "    epochs = range(1,len(val_loss_values)+1)\n",
        "    line1 = plt.plot(epochs,val_loss_values,label=\"Validatio Loss\")\n",
        "    line2 = plt.plot(epochs,loss_values,label=\"Train Loss\")\n",
        "    plt.xlabel(\"Epochs\")\n",
        "    plt.ylabel(\"Loss\")\n",
        "    plt.grid(True)\n",
        "    plt.legend()\n",
        "    plt.show()\n",
        "     "
      ],
      "metadata": {
        "colab": {
          "base_uri": "https://localhost:8080/"
        },
        "id": "7voTxU7s4Ox6",
        "outputId": "abf294d1-c18b-404c-81d8-dc9586b22700"
      },
      "execution_count": null,
      "outputs": [
        {
          "output_type": "stream",
          "name": "stdout",
          "text": [
            "Epoch 1/10\n",
            "1875/1875 [==============================] - 310s 165ms/step - loss: 0.0780 - accuracy: 0.9769 - val_loss: 0.0740 - val_accuracy: 0.9774\n",
            "Epoch 2/10\n",
            "1875/1875 [==============================] - 306s 163ms/step - loss: 0.0502 - accuracy: 0.9849 - val_loss: 0.0291 - val_accuracy: 0.9910\n",
            "Epoch 3/10\n",
            "1875/1875 [==============================] - 305s 163ms/step - loss: 0.0399 - accuracy: 0.9877 - val_loss: 0.0302 - val_accuracy: 0.9913\n",
            "Epoch 4/10\n",
            "1875/1875 [==============================] - 303s 162ms/step - loss: 0.0320 - accuracy: 0.9904 - val_loss: 0.0275 - val_accuracy: 0.9912\n",
            "Epoch 5/10\n",
            "1875/1875 [==============================] - 299s 160ms/step - loss: 0.0285 - accuracy: 0.9915 - val_loss: 0.0387 - val_accuracy: 0.9900\n",
            "Epoch 6/10\n",
            "1875/1875 [==============================] - 298s 159ms/step - loss: 0.0246 - accuracy: 0.9930 - val_loss: 0.0291 - val_accuracy: 0.9926\n",
            "Epoch 7/10\n",
            "1875/1875 [==============================] - 301s 160ms/step - loss: 0.0265 - accuracy: 0.9921 - val_loss: 0.0412 - val_accuracy: 0.9894\n",
            "Epoch 8/10\n",
            "1875/1875 [==============================] - 301s 161ms/step - loss: 0.0212 - accuracy: 0.9940 - val_loss: 0.0450 - val_accuracy: 0.9884\n",
            "Epoch 9/10\n",
            "1875/1875 [==============================] - 303s 162ms/step - loss: 0.0199 - accuracy: 0.9944 - val_loss: 0.0352 - val_accuracy: 0.9909\n",
            "Epoch 10/10\n",
            "  72/1875 [>.............................] - ETA: 4:36 - loss: 0.0175 - accuracy: 0.9944"
          ]
        }
      ]
    }
  ]
}