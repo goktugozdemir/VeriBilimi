{
  "nbformat": 4,
  "nbformat_minor": 0,
  "metadata": {
    "colab": {
      "provenance": []
    },
    "kernelspec": {
      "name": "python3",
      "display_name": "Python 3"
    },
    "language_info": {
      "name": "python"
    }
  },
  "cells": [
    {
      "cell_type": "markdown",
      "source": [
        "Ödev1) Boş Copy Nedir? \".Copy\" Nedir, yazdıktan sonra neleri değiştirir, neleri değiştirmez ? DeepCopy Nedir? Shadow Copy Nedir? Bunlar oluşturduğumuz df'de neleri değiştirir?"
      ],
      "metadata": {
        "id": "UMuWHG6trNJz"
      }
    },
    {
      "cell_type": "markdown",
      "source": [
        "Boş bir kopya, mevcut bir nesnenin içeriğinin kopyalanmasıyla oluşturulan, ancak yeni nesnede hiçbir öğe veya veri bulunmayan yeni bir nesnedir.\n",
        "\n",
        "Derin kopya, orijinal nesnedeki tüm iç içe nesneler de dahil olmak üzere mevcut bir nesnenin içeriğinin kopyalanmasıyla oluşturulan yeni bir nesnedir.\n",
        "\n",
        "Python'da gölge kopya, yorumlayıcı tarafından oluşturulan ve sürdürülen bir nesnenin kopyasıdır. Genellikle referans sayımı veya çöp toplama gibi dahili amaçlar için kullanılır.\n"
      ],
      "metadata": {
        "id": "pk8xERTYsTWG"
      }
    },
    {
      "cell_type": "markdown",
      "source": [
        "Ödev2) e-01 yerine 0.78'i nasıl görebiliriz?"
      ],
      "metadata": {
        "id": "wMjr8RYNsQ4i"
      }
    },
    {
      "cell_type": "markdown",
      "source": [
        "float'a casting yaparak yapabiliriz."
      ],
      "metadata": {
        "id": "E7WWzz8gsd3k"
      }
    },
    {
      "cell_type": "markdown",
      "source": [
        "Ödev3)\"np.Log()\" doğal logoritma dediğimiz şekilde mi gelir yoksa log 2 tabanında mı gelir?\n",
        "\n"
      ],
      "metadata": {
        "id": "NFQZjPGesTFB"
      }
    },
    {
      "cell_type": "markdown",
      "source": [
        "Doğal algoritma şeklinde gelir."
      ],
      "metadata": {
        "id": "U4Urx1rAsehK"
      }
    },
    {
      "cell_type": "markdown",
      "source": [
        "Ödev4)Yeo-Johnson çok büyük değerlerde uygulanamıyor mu? Neden Income değerlerindeki \"10\" olan değerimizi arttırdığımızda(1000 yaptığımızda) çıktımızda bozulmalar oluyor?\n",
        "\n"
      ],
      "metadata": {
        "id": "s_tdwngHsXSe"
      }
    },
    {
      "cell_type": "markdown",
      "source": [
        "Büyük değerlere uygulanır. 10 artırdığımızda outlier etkisi artmıştır."
      ],
      "metadata": {
        "id": "R6-v9nv4sZdg"
      }
    }
  ]
}