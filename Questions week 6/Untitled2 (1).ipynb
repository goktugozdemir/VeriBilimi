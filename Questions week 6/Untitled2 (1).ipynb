{
  "nbformat": 4,
  "nbformat_minor": 0,
  "metadata": {
    "colab": {
      "provenance": [],
      "collapsed_sections": [],
      "toc_visible": true
    },
    "kernelspec": {
      "name": "python3",
      "display_name": "Python 3"
    },
    "language_info": {
      "name": "python"
    }
  },
  "cells": [
    {
      "cell_type": "markdown",
      "source": [
        "Ödev 1) Json-Dictionary arasındaki fark nedir? Dumps Ne işe yarıyor? Neden encode kullandık? Neden data.encode.utf-8nşeklinde kullanmadık.\n",
        "\n",
        "Ödev2) Json dumps nedir json load nedir json loads nedir?\n",
        "\n",
        "Ödev3) Dockera girdikten sonra spesific bir container hangi networkta çalışıyor ve default ip nasıl bulunacak? Bir satırlık kod olarak yazılacak.\n",
        "\n",
        "Ödev4) Kod json.dumps değil de json.dump ile deneyerek yazılacak.\n",
        "\n",
        "Ödev5) Neden UTF-8 kullanıyoruz?\n",
        "\n",
        "Ödev6) 192.168.0.1 nedir ve 127.00.01 arasındaki fark nedir?\n"
      ],
      "metadata": {
        "id": "p_dyqqPSCK-x"
      }
    },
    {
      "cell_type": "markdown",
      "source": [
        "JSON bir veri formatı ve python'da dict bir veri yapısıdır. Python'da dict değerlerine my_dict.key sözdizimi kullanılarak erişilemez. \n",
        "Dumps nesneleri json dizisi yapar. Depolarken daha kolay depolamak için encode kullandık. Utf-8 den json a döndürmek yavaşlatıp tekrar kontrol etmemizi gerektirdi.\n",
        "\n",
        "\n",
        "\n"
      ],
      "metadata": {
        "id": "vazWfnBlDdT-"
      }
    },
    {
      "cell_type": "markdown",
      "source": [
        "json.dumps() fonksiyonu, Python nesnelerinin bir alt kümesini json dizesine dönüştürür\n",
        "json.loads() fonksiyonu, geçerli bir JSON dizesini decolar ve onu bir Python Sözlüğüne dönüştürür.\n",
        "json.load() bir dosya nesnesi alır ve json nesnesini döndürür\n",
        "\n",
        "\n"
      ],
      "metadata": {
        "id": "KywRhz24Dd8p"
      }
    },
    {
      "cell_type": "markdown",
      "source": [
        "docker inspect \"isim\""
      ],
      "metadata": {
        "id": "yMGov_61DeGh"
      }
    },
    {
      "cell_type": "markdown",
      "source": [
        "producer.send(\n",
        "  OREDER_KAFKA_TOPİC,\n",
        "  with open(\"sample.json\", \"w\") as outfile:\n",
        "    json.dump(data, outfile)\n",
        "  f = open(\"demofile.txt\", \"r\")\n",
        "  f.read()\n",
        ")"
      ],
      "metadata": {
        "id": "C5Rp2EBvDeOY"
      }
    },
    {
      "cell_type": "markdown",
      "source": [
        "UTF-8 kullananların nerdeyse kullandığı her karakteri destekler ve birçok işletim sistemi ve araçta desteklenmektedir. Standarta uymak için kullanılır.\n"
      ],
      "metadata": {
        "id": "FRQqeXhPDeXw"
      }
    },
    {
      "cell_type": "markdown",
      "source": [
        "192.168.0.1, yönetici paneline giriş yapmak için varsayılan IP adresidir ve D-Link gibi modemler tarafından kullanılan varsayılan ağ geçididir.\n",
        "127.0.0.1, IPv4 özellikli her bilgisayarın kendi kendine konuşmak için kullanabileceği özel bir adrestir. 192.168.0.1, LAN'ınızdaki diğer bilgisayarların onunla konuşmak için kullanacağı adrestir.\n",
        "\n"
      ],
      "metadata": {
        "id": "NVpev_KKDefc"
      }
    }
  ]
}