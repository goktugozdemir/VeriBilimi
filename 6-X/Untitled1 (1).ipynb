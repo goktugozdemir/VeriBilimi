{
  "nbformat": 4,
  "nbformat_minor": 0,
  "metadata": {
    "colab": {
      "provenance": [],
      "collapsed_sections": []
    },
    "kernelspec": {
      "name": "python3",
      "display_name": "Python 3"
    },
    "language_info": {
      "name": "python"
    }
  },
  "cells": [
    {
      "cell_type": "code",
      "source": [
        "import pandas as pd\n",
        "import sklearn as sklearn\n",
        "import numpy as np\n",
        "import seaborn as sb\n",
        "import matplotlib.pyplot as plt\n",
        "\n",
        "data=pd.read_excel(\"/Temporary_data3_Left_Right_Copy.xlsx\")\n",
        "data.head()"
      ],
      "metadata": {
        "colab": {
          "base_uri": "https://localhost:8080/",
          "height": 279
        },
        "id": "4wAHa3uVjpju",
        "outputId": "5af769ec-58e2-4d4e-92fa-ac9377b14cf2"
      },
      "execution_count": 45,
      "outputs": [
        {
          "output_type": "execute_result",
          "data": {
            "text/plain": [
              "   SEX  EDUC  MARISTAT  INDEPEND  RESIDENC  NACCFAM  ANYMEDS  SMOKYRS  \\\n",
              "0    2    18         1         1         1        1        1        0   \n",
              "1    1    11         1         1         1        1        1        0   \n",
              "2    2    16         1         1         1        1        1       10   \n",
              "3    1    14         1         1         1        0        1        0   \n",
              "4    1    16         1         1         2        0        1       50   \n",
              "\n",
              "   NACCTBI  DIABETES  ...   RSUPFR  RSUPFRM  RSUPPAR  RSUPPARM  RSUPTEM  \\\n",
              "0        0         0  ...  27.9038   2.2157  10.3481    1.7014  13.4250   \n",
              "1        0         0  ...  29.0600   2.6900   9.2500    1.6300  14.8800   \n",
              "2        0         1  ...  33.0000   2.5400  13.6900    1.5600  16.2300   \n",
              "3        0         1  ...  31.6800   2.4100   9.6400    1.4500  15.1100   \n",
              "4        0         0  ...  28.0631   1.9501   9.1125    1.0427  13.3763   \n",
              "\n",
              "   RSUPTEMM  RSUPMAR  RSUPMARM  RTRTEM  RTRTEMM  \n",
              "0    1.7419   9.8700    1.6792  0.8906   1.1947  \n",
              "1    2.3000   7.2700    1.8900  1.3800   2.0300  \n",
              "2    2.0700  10.1100    1.8400  1.0100   1.5000  \n",
              "3    1.6400  10.3900    1.8300  0.7400   1.1000  \n",
              "4    1.6270   7.5844    1.4595  0.6638   0.8527  \n",
              "\n",
              "[5 rows x 186 columns]"
            ],
            "text/html": [
              "\n",
              "  <div id=\"df-46516530-5dd7-4037-82d1-2a834c4ba5e8\">\n",
              "    <div class=\"colab-df-container\">\n",
              "      <div>\n",
              "<style scoped>\n",
              "    .dataframe tbody tr th:only-of-type {\n",
              "        vertical-align: middle;\n",
              "    }\n",
              "\n",
              "    .dataframe tbody tr th {\n",
              "        vertical-align: top;\n",
              "    }\n",
              "\n",
              "    .dataframe thead th {\n",
              "        text-align: right;\n",
              "    }\n",
              "</style>\n",
              "<table border=\"1\" class=\"dataframe\">\n",
              "  <thead>\n",
              "    <tr style=\"text-align: right;\">\n",
              "      <th></th>\n",
              "      <th>SEX</th>\n",
              "      <th>EDUC</th>\n",
              "      <th>MARISTAT</th>\n",
              "      <th>INDEPEND</th>\n",
              "      <th>RESIDENC</th>\n",
              "      <th>NACCFAM</th>\n",
              "      <th>ANYMEDS</th>\n",
              "      <th>SMOKYRS</th>\n",
              "      <th>NACCTBI</th>\n",
              "      <th>DIABETES</th>\n",
              "      <th>...</th>\n",
              "      <th>RSUPFR</th>\n",
              "      <th>RSUPFRM</th>\n",
              "      <th>RSUPPAR</th>\n",
              "      <th>RSUPPARM</th>\n",
              "      <th>RSUPTEM</th>\n",
              "      <th>RSUPTEMM</th>\n",
              "      <th>RSUPMAR</th>\n",
              "      <th>RSUPMARM</th>\n",
              "      <th>RTRTEM</th>\n",
              "      <th>RTRTEMM</th>\n",
              "    </tr>\n",
              "  </thead>\n",
              "  <tbody>\n",
              "    <tr>\n",
              "      <th>0</th>\n",
              "      <td>2</td>\n",
              "      <td>18</td>\n",
              "      <td>1</td>\n",
              "      <td>1</td>\n",
              "      <td>1</td>\n",
              "      <td>1</td>\n",
              "      <td>1</td>\n",
              "      <td>0</td>\n",
              "      <td>0</td>\n",
              "      <td>0</td>\n",
              "      <td>...</td>\n",
              "      <td>27.9038</td>\n",
              "      <td>2.2157</td>\n",
              "      <td>10.3481</td>\n",
              "      <td>1.7014</td>\n",
              "      <td>13.4250</td>\n",
              "      <td>1.7419</td>\n",
              "      <td>9.8700</td>\n",
              "      <td>1.6792</td>\n",
              "      <td>0.8906</td>\n",
              "      <td>1.1947</td>\n",
              "    </tr>\n",
              "    <tr>\n",
              "      <th>1</th>\n",
              "      <td>1</td>\n",
              "      <td>11</td>\n",
              "      <td>1</td>\n",
              "      <td>1</td>\n",
              "      <td>1</td>\n",
              "      <td>1</td>\n",
              "      <td>1</td>\n",
              "      <td>0</td>\n",
              "      <td>0</td>\n",
              "      <td>0</td>\n",
              "      <td>...</td>\n",
              "      <td>29.0600</td>\n",
              "      <td>2.6900</td>\n",
              "      <td>9.2500</td>\n",
              "      <td>1.6300</td>\n",
              "      <td>14.8800</td>\n",
              "      <td>2.3000</td>\n",
              "      <td>7.2700</td>\n",
              "      <td>1.8900</td>\n",
              "      <td>1.3800</td>\n",
              "      <td>2.0300</td>\n",
              "    </tr>\n",
              "    <tr>\n",
              "      <th>2</th>\n",
              "      <td>2</td>\n",
              "      <td>16</td>\n",
              "      <td>1</td>\n",
              "      <td>1</td>\n",
              "      <td>1</td>\n",
              "      <td>1</td>\n",
              "      <td>1</td>\n",
              "      <td>10</td>\n",
              "      <td>0</td>\n",
              "      <td>1</td>\n",
              "      <td>...</td>\n",
              "      <td>33.0000</td>\n",
              "      <td>2.5400</td>\n",
              "      <td>13.6900</td>\n",
              "      <td>1.5600</td>\n",
              "      <td>16.2300</td>\n",
              "      <td>2.0700</td>\n",
              "      <td>10.1100</td>\n",
              "      <td>1.8400</td>\n",
              "      <td>1.0100</td>\n",
              "      <td>1.5000</td>\n",
              "    </tr>\n",
              "    <tr>\n",
              "      <th>3</th>\n",
              "      <td>1</td>\n",
              "      <td>14</td>\n",
              "      <td>1</td>\n",
              "      <td>1</td>\n",
              "      <td>1</td>\n",
              "      <td>0</td>\n",
              "      <td>1</td>\n",
              "      <td>0</td>\n",
              "      <td>0</td>\n",
              "      <td>1</td>\n",
              "      <td>...</td>\n",
              "      <td>31.6800</td>\n",
              "      <td>2.4100</td>\n",
              "      <td>9.6400</td>\n",
              "      <td>1.4500</td>\n",
              "      <td>15.1100</td>\n",
              "      <td>1.6400</td>\n",
              "      <td>10.3900</td>\n",
              "      <td>1.8300</td>\n",
              "      <td>0.7400</td>\n",
              "      <td>1.1000</td>\n",
              "    </tr>\n",
              "    <tr>\n",
              "      <th>4</th>\n",
              "      <td>1</td>\n",
              "      <td>16</td>\n",
              "      <td>1</td>\n",
              "      <td>1</td>\n",
              "      <td>2</td>\n",
              "      <td>0</td>\n",
              "      <td>1</td>\n",
              "      <td>50</td>\n",
              "      <td>0</td>\n",
              "      <td>0</td>\n",
              "      <td>...</td>\n",
              "      <td>28.0631</td>\n",
              "      <td>1.9501</td>\n",
              "      <td>9.1125</td>\n",
              "      <td>1.0427</td>\n",
              "      <td>13.3763</td>\n",
              "      <td>1.6270</td>\n",
              "      <td>7.5844</td>\n",
              "      <td>1.4595</td>\n",
              "      <td>0.6638</td>\n",
              "      <td>0.8527</td>\n",
              "    </tr>\n",
              "  </tbody>\n",
              "</table>\n",
              "<p>5 rows × 186 columns</p>\n",
              "</div>\n",
              "      <button class=\"colab-df-convert\" onclick=\"convertToInteractive('df-46516530-5dd7-4037-82d1-2a834c4ba5e8')\"\n",
              "              title=\"Convert this dataframe to an interactive table.\"\n",
              "              style=\"display:none;\">\n",
              "        \n",
              "  <svg xmlns=\"http://www.w3.org/2000/svg\" height=\"24px\"viewBox=\"0 0 24 24\"\n",
              "       width=\"24px\">\n",
              "    <path d=\"M0 0h24v24H0V0z\" fill=\"none\"/>\n",
              "    <path d=\"M18.56 5.44l.94 2.06.94-2.06 2.06-.94-2.06-.94-.94-2.06-.94 2.06-2.06.94zm-11 1L8.5 8.5l.94-2.06 2.06-.94-2.06-.94L8.5 2.5l-.94 2.06-2.06.94zm10 10l.94 2.06.94-2.06 2.06-.94-2.06-.94-.94-2.06-.94 2.06-2.06.94z\"/><path d=\"M17.41 7.96l-1.37-1.37c-.4-.4-.92-.59-1.43-.59-.52 0-1.04.2-1.43.59L10.3 9.45l-7.72 7.72c-.78.78-.78 2.05 0 2.83L4 21.41c.39.39.9.59 1.41.59.51 0 1.02-.2 1.41-.59l7.78-7.78 2.81-2.81c.8-.78.8-2.07 0-2.86zM5.41 20L4 18.59l7.72-7.72 1.47 1.35L5.41 20z\"/>\n",
              "  </svg>\n",
              "      </button>\n",
              "      \n",
              "  <style>\n",
              "    .colab-df-container {\n",
              "      display:flex;\n",
              "      flex-wrap:wrap;\n",
              "      gap: 12px;\n",
              "    }\n",
              "\n",
              "    .colab-df-convert {\n",
              "      background-color: #E8F0FE;\n",
              "      border: none;\n",
              "      border-radius: 50%;\n",
              "      cursor: pointer;\n",
              "      display: none;\n",
              "      fill: #1967D2;\n",
              "      height: 32px;\n",
              "      padding: 0 0 0 0;\n",
              "      width: 32px;\n",
              "    }\n",
              "\n",
              "    .colab-df-convert:hover {\n",
              "      background-color: #E2EBFA;\n",
              "      box-shadow: 0px 1px 2px rgba(60, 64, 67, 0.3), 0px 1px 3px 1px rgba(60, 64, 67, 0.15);\n",
              "      fill: #174EA6;\n",
              "    }\n",
              "\n",
              "    [theme=dark] .colab-df-convert {\n",
              "      background-color: #3B4455;\n",
              "      fill: #D2E3FC;\n",
              "    }\n",
              "\n",
              "    [theme=dark] .colab-df-convert:hover {\n",
              "      background-color: #434B5C;\n",
              "      box-shadow: 0px 1px 3px 1px rgba(0, 0, 0, 0.15);\n",
              "      filter: drop-shadow(0px 1px 2px rgba(0, 0, 0, 0.3));\n",
              "      fill: #FFFFFF;\n",
              "    }\n",
              "  </style>\n",
              "\n",
              "      <script>\n",
              "        const buttonEl =\n",
              "          document.querySelector('#df-46516530-5dd7-4037-82d1-2a834c4ba5e8 button.colab-df-convert');\n",
              "        buttonEl.style.display =\n",
              "          google.colab.kernel.accessAllowed ? 'block' : 'none';\n",
              "\n",
              "        async function convertToInteractive(key) {\n",
              "          const element = document.querySelector('#df-46516530-5dd7-4037-82d1-2a834c4ba5e8');\n",
              "          const dataTable =\n",
              "            await google.colab.kernel.invokeFunction('convertToInteractive',\n",
              "                                                     [key], {});\n",
              "          if (!dataTable) return;\n",
              "\n",
              "          const docLinkHtml = 'Like what you see? Visit the ' +\n",
              "            '<a target=\"_blank\" href=https://colab.research.google.com/notebooks/data_table.ipynb>data table notebook</a>'\n",
              "            + ' to learn more about interactive tables.';\n",
              "          element.innerHTML = '';\n",
              "          dataTable['output_type'] = 'display_data';\n",
              "          await google.colab.output.renderOutput(dataTable, element);\n",
              "          const docLink = document.createElement('div');\n",
              "          docLink.innerHTML = docLinkHtml;\n",
              "          element.appendChild(docLink);\n",
              "        }\n",
              "      </script>\n",
              "    </div>\n",
              "  </div>\n",
              "  "
            ]
          },
          "metadata": {},
          "execution_count": 45
        }
      ]
    },
    {
      "cell_type": "code",
      "source": [
        "from sklearn.model_selection import train_test_split\n",
        "from sklearn.neighbors import KNeighborsClassifier\n",
        "from sklearn.metrics import accuracy_score\n",
        "from sklearn.model_selection import cross_val_score\n",
        "\n",
        "training_data, testing_data = train_test_split(data, test_size=0.2, stratify=data['CDRGLOB'],random_state=25)\n",
        "neigh1 = KNeighborsClassifier(n_neighbors=5)\n",
        "neigh2 = KNeighborsClassifier(n_neighbors=10)\n",
        "\n",
        "\n",
        "neigh1.fit(training_data,training_data[\"CDRGLOB\"])\n",
        "y_model = neigh1.predict(testing_data)           \n",
        "acc1=(accuracy_score(testing_data[\"CDRGLOB\"], y_model))\n",
        "print(acc1)\n",
        "print(cross_val_score(neigh1, training_data, training_data[\"CDRGLOB\"], cv=5))\n",
        "print(cross_val_score(neigh1, training_data, training_data[\"CDRGLOB\"], cv=10))\n",
        "\n",
        "\n",
        "neigh2.fit(training_data, training_data[\"CDRGLOB\"])\n",
        "y_model = neigh2.predict(testing_data)           \n",
        "acc2=(accuracy_score(testing_data[\"CDRGLOB\"], y_model))\n",
        "print(acc2)\n"
      ],
      "metadata": {
        "colab": {
          "base_uri": "https://localhost:8080/"
        },
        "id": "zkzCBcu1oFJN",
        "outputId": "c49d193b-35f0-474d-929f-3ebd34f16388"
      },
      "execution_count": 32,
      "outputs": [
        {
          "output_type": "stream",
          "name": "stdout",
          "text": [
            "0.5092250922509225\n",
            "[0.50691244 0.51152074 0.53456221 0.48611111 0.52314815]\n",
            "[0.51376147 0.44954128 0.53211009 0.52777778 0.53703704 0.55555556\n",
            " 0.5462963  0.39814815 0.51851852 0.51851852]\n",
            "0.5202952029520295\n"
          ]
        }
      ]
    },
    {
      "cell_type": "code",
      "source": [
        "from sklearn.model_selection import GridSearchCV\n",
        "neigh3=KNeighborsClassifier()\n",
        "param = {'n_neighbors': np.arange(0,5),\n",
        "              'leaf_size': np.arange(10,15),\n",
        "              'n_jobs': np.arange(5,10)}\n",
        "\n",
        "grid = GridSearchCV(neigh3, param, cv=5)\n",
        "grid.fit(data,data[\"CDRGLOB\"])\n",
        "grid = grid.best_estimator_       \n",
        "acc3=cross_val_score(grid, training_data, training_data[\"CDRGLOB\"], cv=5)\n",
        "print(acc3)"
      ],
      "metadata": {
        "colab": {
          "base_uri": "https://localhost:8080/"
        },
        "id": "G4GMh_ocm9Tj",
        "outputId": "ee253682-8b77-446a-aed3-c6300dbc20ca"
      },
      "execution_count": 42,
      "outputs": [
        {
          "output_type": "stream",
          "name": "stderr",
          "text": [
            "/usr/local/lib/python3.7/dist-packages/sklearn/model_selection/_validation.py:372: FitFailedWarning: \n",
            "125 fits failed out of a total of 625.\n",
            "The score on these train-test partitions for these parameters will be set to nan.\n",
            "If these failures are not expected, you can try to debug them by setting error_score='raise'.\n",
            "\n",
            "Below are more details about the failures:\n",
            "--------------------------------------------------------------------------------\n",
            "125 fits failed with the following error:\n",
            "Traceback (most recent call last):\n",
            "  File \"/usr/local/lib/python3.7/dist-packages/sklearn/model_selection/_validation.py\", line 680, in _fit_and_score\n",
            "    estimator.fit(X_train, y_train, **fit_params)\n",
            "  File \"/usr/local/lib/python3.7/dist-packages/sklearn/neighbors/_classification.py\", line 198, in fit\n",
            "    return self._fit(X, y)\n",
            "  File \"/usr/local/lib/python3.7/dist-packages/sklearn/neighbors/_base.py\", line 569, in _fit\n",
            "    raise ValueError(\"Expected n_neighbors > 0. Got %d\" % self.n_neighbors)\n",
            "ValueError: Expected n_neighbors > 0. Got 0\n",
            "\n",
            "  warnings.warn(some_fits_failed_message, FitFailedWarning)\n",
            "/usr/local/lib/python3.7/dist-packages/sklearn/model_selection/_search.py:972: UserWarning: One or more of the test scores are non-finite: [       nan 0.46450731 0.50070521 0.50073801 0.50958043        nan\n",
            " 0.46450731 0.50070521 0.50073801 0.50958043        nan 0.46450731\n",
            " 0.50070521 0.50073801 0.50958043        nan 0.46450731 0.50070521\n",
            " 0.50073801 0.50958043        nan 0.46450731 0.50070521 0.50073801\n",
            " 0.50958043        nan 0.46450731 0.50070521 0.50073801 0.50958043\n",
            "        nan 0.46450731 0.50070521 0.50073801 0.50958043        nan\n",
            " 0.46450731 0.50070521 0.50073801 0.50958043        nan 0.46450731\n",
            " 0.50070521 0.50073801 0.50958043        nan 0.46450731 0.50070521\n",
            " 0.50073801 0.50958043        nan 0.46450731 0.50070521 0.50073801\n",
            " 0.50958043        nan 0.46450731 0.50070521 0.50073801 0.50958043\n",
            "        nan 0.46450731 0.50070521 0.50073801 0.50958043        nan\n",
            " 0.46450731 0.50070521 0.50073801 0.50958043        nan 0.46450731\n",
            " 0.50070521 0.50073801 0.50958043        nan 0.46450731 0.50070521\n",
            " 0.50073801 0.50958043        nan 0.46450731 0.50070521 0.50073801\n",
            " 0.50958043        nan 0.46450731 0.50070521 0.50073801 0.50958043\n",
            "        nan 0.46450731 0.50070521 0.50073801 0.50958043        nan\n",
            " 0.46450731 0.50070521 0.50073801 0.50958043        nan 0.46450731\n",
            " 0.50070521 0.50073801 0.50958043        nan 0.46450731 0.50070521\n",
            " 0.50073801 0.50958043        nan 0.46450731 0.50070521 0.50073801\n",
            " 0.50958043        nan 0.46450731 0.50070521 0.50073801 0.50958043\n",
            "        nan 0.46450731 0.50070521 0.50073801 0.50958043]\n",
            "  category=UserWarning,\n"
          ]
        },
        {
          "output_type": "stream",
          "name": "stdout",
          "text": [
            "[0.50691244 0.52995392 0.52534562 0.48611111 0.51388889]\n"
          ]
        }
      ]
    },
    {
      "cell_type": "code",
      "source": [
        "plt.scatter(training_data[\"EDUC\"],training_data [\"INDEPEND\"],c=training_data[\"CDRGLOB\"])\n",
        "plt.colorbar(label=\"CDRGLOB levels\", ticks = range(4))\n",
        "plt.ylabel(\"INDEPEND\")\n",
        "plt.xlabel(\"EDUC\")\n",
        "plt.show();"
      ],
      "metadata": {
        "colab": {
          "base_uri": "https://localhost:8080/",
          "height": 283
        },
        "id": "9Z8iKrqqtlh1",
        "outputId": "15a34a59-3519-4072-9074-e2da4fdb3969"
      },
      "execution_count": 50,
      "outputs": [
        {
          "output_type": "display_data",
          "data": {
            "text/plain": [
              "<Figure size 432x288 with 2 Axes>"
            ],
            "image/png": "[encoded data removed]"
          },
          "metadata": {
            "needs_background": "light"
          }
        }
      ]
    },
    {
      "cell_type": "code",
      "source": [
        "from sklearn.manifold import Isomap\n",
        "embedding = Isomap(n_components=2)\n",
        "datadeg = embedding.fit_transform(data)\n",
        "ax = sb.heatmap(datadeg)\n",
        "ax"
      ],
      "metadata": {
        "colab": {
          "base_uri": "https://localhost:8080/",
          "height": 287
        },
        "id": "yk3Ljjo1yllp",
        "outputId": "55845054-4309-48ab-cd6a-3b178d65b9a7"
      },
      "execution_count": 10,
      "outputs": [
        {
          "output_type": "execute_result",
          "data": {
            "text/plain": [
              "<matplotlib.axes._subplots.AxesSubplot at 0x7f31f6370d10>"
            ]
          },
          "metadata": {},
          "execution_count": 10
        },
        {
          "output_type": "display_data",
          "data": {
            "text/plain": [
              "<Figure size 432x288 with 2 Axes>"
            ],
            "image/png": "[encoded data removed]"
          },
          "metadata": {
            "needs_background": "light"
          }
        }
      ]
    },
    {
      "cell_type": "code",
      "source": [
        "from sklearn.cluster import KMeans\n",
        "kmeans = KMeans(n_clusters = 3, random_state=25)\n",
        "clus = kmeans.fit_predict(training_data)\n",
        "plt.scatter(training_data[\"EDUC\"], training_data[\"INDEPEND\"],c=clus, s=20)\n",
        "plt.colorbar(label=\"Clusters\",ticks=range(3))\n",
        "plt.show();"
      ],
      "metadata": {
        "colab": {
          "base_uri": "https://localhost:8080/",
          "height": 269
        },
        "id": "h7SlDVeiul3e",
        "outputId": "3fbcfc73-cb30-4fdf-f8d5-09ecf258a73a"
      },
      "execution_count": 53,
      "outputs": [
        {
          "output_type": "display_data",
          "data": {
            "text/plain": [
              "<Figure size 432x288 with 2 Axes>"
            ],
            "image/png": "[encoded data removed]"
          },
          "metadata": {
            "needs_background": "light"
          }
        }
      ]
    }
  ]
}